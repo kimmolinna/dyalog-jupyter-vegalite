{
 "cells": [
  {
   "cell_type": "markdown",
   "metadata": {},
   "source": [
    "# DuckDB and DyalogAPL with Vega-Lite"
   ]
  },
  {
   "cell_type": "code",
   "execution_count": 5,
   "metadata": {
    "vscode": {
     "languageId": "apl"
    }
   },
   "outputs": [],
   "source": [
    "⎕pw←32767 ⋄ ⎕PP←34"
   ]
  },
  {
   "cell_type": "code",
   "execution_count": 6,
   "metadata": {
    "vscode": {
     "languageId": "apl"
    }
   },
   "outputs": [
    {
     "data": {
      "text/html": [
       "<span style=\"white-space:pre; font-family: monospace\">Linked: # ←→ /home/kimmo/dyalog-jupyter-vegalite/../dyalog-jupyter-vegalite\n",
       "</span>"
      ]
     },
     "execution_count": 6,
     "metadata": {},
     "output_type": "execute_result"
    }
   ],
   "source": [
    "]link.create # ../dyalog-jupyter-vegalite"
   ]
  },
  {
   "cell_type": "code",
   "execution_count": 7,
   "metadata": {
    "vscode": {
     "languageId": "apl"
    }
   },
   "outputs": [
    {
     "data": {
      "text/html": [
       "<span style=\"white-space:pre; font-family: monospace\">94166708459728\n",
       "</span>"
      ]
     },
     "execution_count": 7,
     "metadata": {},
     "output_type": "execute_result"
    }
   ],
   "source": [
    "duckdb.init 'lib/'\n",
    "_db←duckdb.open ':memory:'\n",
    "_con←duckdb.connect _db\n",
    "_con"
   ]
  },
  {
   "cell_type": "code",
   "execution_count": 8,
   "metadata": {
    "vscode": {
     "languageId": "apl"
    }
   },
   "outputs": [
    {
     "data": {
      "text/html": [
       "<span style=\"white-space:pre; font-family: monospace\">┌───────┬────┬─┐\n",
       "│┌─────┐│5878│5│\n",
       "││Count││    │ │\n",
       "│└─────┘│    │ │\n",
       "└───────┴────┴─┘\n",
       "</span>"
      ]
     },
     "execution_count": 8,
     "metadata": {},
     "output_type": "execute_result"
    }
   ],
   "source": [
    "duckdb.query _con 'CREATE TABLE elec AS SELECT * FROM \"../dyalog-duckdb-parquet/electricity.parquet\"' ⍝ data/electricity.parquet"
   ]
  },
  {
   "cell_type": "code",
   "execution_count": 9,
   "metadata": {
    "vscode": {
     "languageId": "apl"
    }
   },
   "outputs": [
    {
     "data": {
      "text/html": [
       "<span style=\"white-space:pre; font-family: monospace\">┌───┬───────────┬─────────┬───────┬──────────┬──┐\n",
       "│cid│name       │type     │notnull│dflt_value│pk│\n",
       "├───┼───────────┼─────────┼───────┼──────────┼──┤\n",
       "│0  │time       │TIMESTAMP│0      │ [Null]   │0 │\n",
       "├───┼───────────┼─────────┼───────┼──────────┼──┤\n",
       "│1  │consumption│DOUBLE   │0      │ [Null]   │0 │\n",
       "├───┼───────────┼─────────┼───────┼──────────┼──┤\n",
       "│2  │price      │DOUBLE   │0      │ [Null]   │0 │\n",
       "└───┴───────────┴─────────┴───────┴──────────┴──┘\n",
       "</span>"
      ]
     },
     "execution_count": 9,
     "metadata": {},
     "output_type": "execute_result"
    }
   ],
   "source": [
    "duckdb.toTable duckdb.query _con 'PRAGMA table_info(elec)'"
   ]
  },
  {
   "cell_type": "code",
   "execution_count": 10,
   "metadata": {
    "vscode": {
     "languageId": "apl"
    }
   },
   "outputs": [
    {
     "data": {
      "text/html": [
       "<span style=\"white-space:pre; font-family: monospace\">┌───────────────────┬───────────┬───────┐\n",
       "│time               │consumption│price  │\n",
       "├───────────────────┼───────────┼───────┤\n",
       "│2021 12 31 23 0 0 0│5.71       │5.7784 │\n",
       "├───────────────────┼───────────┼───────┤\n",
       "│2022 1 1 0 0 0 0   │9.32       │5.12492│\n",
       "├───────────────────┼───────────┼───────┤\n",
       "│2022 1 1 1 0 0 0   │8.01       │5.23032│\n",
       "├───────────────────┼───────────┼───────┤\n",
       "│2022 1 1 2 0 0 0   │4.93       │5.50188│\n",
       "├───────────────────┼───────────┼───────┤\n",
       "│2022 1 1 3 0 0 0   │4          │4.67108│\n",
       "└───────────────────┴───────────┴───────┘\n",
       "</span>"
      ]
     },
     "execution_count": 10,
     "metadata": {},
     "output_type": "execute_result"
    }
   ],
   "source": [
    "duckdb.toTable duckdb.query _con 'SELECT * FROM elec ORDER BY time LIMIT 5'"
   ]
  },
  {
   "cell_type": "code",
   "execution_count": 14,
   "metadata": {
    "vscode": {
     "languageId": "apl"
    }
   },
   "outputs": [
    {
     "data": {
      "text/html": [
       "<span style=\"white-space:pre; font-family: monospace\">┌────┬─────┬───────────┬───────────┬───────────┬──────────────┐\n",
       "│year│month│consumption│costs      │avg_price  │weighted_price│\n",
       "├────┼─────┼───────────┼───────────┼───────────┼──────────────┤\n",
       "│2022│1    │3906.38    │511.4491408│13.24715667│13.09266228   │\n",
       "├────┼─────┼───────────┼───────────┼───────────┼──────────────┤\n",
       "│2022│2    │3078.02    │306.7896531│10.0258244 │9.967110452   │\n",
       "├────┼─────┼───────────┼───────────┼───────────┼──────────────┤\n",
       "│2022│3    │2777.89    │286.8994659│10.74263833│10.32796352   │\n",
       "├────┼─────┼───────────┼───────────┼───────────┼──────────────┤\n",
       "│2022│4    │2145.95    │195.0728148│9.8475375  │9.090277721   │\n",
       "├────┼─────┼───────────┼───────────┼───────────┼──────────────┤\n",
       "│2022│5    │1754.37    │254.6228395│16.411175  │14.51363393   │\n",
       "├────┼─────┼───────────┼───────────┼───────────┼──────────────┤\n",
       "│2022│6    │1456.76    │216.1720991│17.40090278│14.83923907   │\n",
       "├────┼─────┼───────────┼───────────┼───────────┼──────────────┤\n",
       "│2022│7    │1523.36    │319.4839924│22.80603833│20.97232384   │\n",
       "├────┼─────┼───────────┼───────────┼───────────┼──────────────┤\n",
       "│2022│8    │1349.76    │409.8211578│32.43009333│30.36252058   │\n",
       "├────┼─────┼───────────┼───────────┼───────────┼──────────────┤\n",
       "│2022│9    │67.63      │24.74610811│40.62526578│36.59043045   │\n",
       "└────┴─────┴───────────┴───────────┴───────────┴──────────────┘\n",
       "</span>"
      ]
     },
     "execution_count": 14,
     "metadata": {},
     "output_type": "execute_result"
    }
   ],
   "source": [
    "]multiline\n",
    "duckdb.toTable duckdb.query _con ```\n",
    "SELECT \n",
    "    year(time) as year,\n",
    "    month(time) as month,\n",
    "    sum(consumption) as consumption,\n",
    "    sum(price*consumption/100) as costs,\n",
    "    avg(price) as avg_price,\n",
    "    sum(price*consumption)/sum(consumption) as weighted_price \n",
    "FROM elec\n",
    "WHERE year(time)>2021 \n",
    "GROUP BY year(time),month(time)\n",
    "```"
   ]
  },
  {
   "cell_type": "code",
   "execution_count": 15,
   "metadata": {
    "vscode": {
     "languageId": "apl"
    }
   },
   "outputs": [
    {
     "data": {
      "text/html": [
       "<span style=\"white-space:pre; font-family: monospace\">┌────────────┬────────────────────────────────────────────────────────────────────────────────────────────────────────────────────────────────────┬─────┐\n",
       "│┌────┬─────┐│┌───────────────────────────────────────────────────────────────────────────────────────────┬──────────────────────────────────────┐│17 11│\n",
       "││date│value│││┌─────────────────┬─────────────────┬─────────────────┬─────────────────┬─────────────────┐│5.7784 5.12492 5.23032 5.50188 4.67108││     │\n",
       "│└────┴─────┘│││2021-12-31T23:00Z│2022-01-01T00:00Z│2022-01-01T01:00Z│2022-01-01T02:00Z│2022-01-01T03:00Z││                                      ││     │\n",
       "│            ││└─────────────────┴─────────────────┴─────────────────┴─────────────────┴─────────────────┘│                                      ││     │\n",
       "│            │└───────────────────────────────────────────────────────────────────────────────────────────┴──────────────────────────────────────┘│     │\n",
       "└────────────┴────────────────────────────────────────────────────────────────────────────────────────────────────────────────────────────────────┴─────┘\n",
       "</span>"
      ]
     },
     "execution_count": 15,
     "metadata": {},
     "output_type": "execute_result"
    }
   ],
   "source": [
    "duckdb.query _con 'SELECT strftime(time,''%Y-%m-%dT%H:%MZ'') as date,price as value FROM elec LIMIT 5'"
   ]
  },
  {
   "cell_type": "markdown",
   "metadata": {},
   "source": [
    "```apl\n",
    "json←toJson in\n",
    "col data←2↑in\n",
    "data←{a←⍵ ⋄ ∨/b←⍵∊⎕null:{(b/a)←⍵⋄a}⊂'null' ⋄ ⍵}¨data\n",
    "json←⎕json ⊂ 4 (data col)\n",
    "\n",
    "⍝ KSL 1.0.2\n",
    "```"
   ]
  },
  {
   "cell_type": "code",
   "execution_count": 16,
   "metadata": {
    "vscode": {
     "languageId": "apl"
    }
   },
   "outputs": [
    {
     "data": {
      "text/html": [
       "<span style=\"white-space:pre; font-family: monospace\">[{\"date\":\"2022-01-01\",\"cons_daily\":144.29},{\"date\":\"2022-01-02\",\"cons_daily\":133},{\"date\":\"2022-01-0\n",
       "</span>"
      ]
     },
     "execution_count": 16,
     "metadata": {},
     "output_type": "execute_result"
    }
   ],
   "source": [
    "]multiline\n",
    "cons_daily←duckdb.toJson duckdb.query _con ```\n",
    "SELECT\n",
    "  strftime(date_trunc(''day'',time),''%Y-%m-%d'') as date,\n",
    "  round(sum(consumption),2) as cons_daily\n",
    "FROM elec\n",
    "WHERE year(time)>2021\n",
    "GROUP BY date_trunc(''day'',time)\n",
    "ORDER BY date\n",
    "``` ⋄ 100↑cons_daily"
   ]
  },
  {
   "cell_type": "code",
   "execution_count": 17,
   "metadata": {
    "vscode": {
     "languageId": "apl"
    }
   },
   "outputs": [
    {
     "data": {
      "text/html": [
       "<span style=\"white-space:pre; font-family: monospace\">[{\"month\":\"2022-01-01\",\"cons_monthly\":3906.38},{\"month\":\"2022-02-01\",\"cons_monthly\":3078.02},{\"month\n",
       "</span>"
      ]
     },
     "execution_count": 17,
     "metadata": {},
     "output_type": "execute_result"
    }
   ],
   "source": [
    "]multiline\n",
    "cons_monthly←duckdb.toJson duckdb.query _con ```\n",
    "SELECT\n",
    "  strftime(date_trunc(''month'',time),''%Y-%m-%d'')as month,\n",
    "  round(sum(consumption),2) as cons_monthly\n",
    "FROM elec\n",
    "WHERE year(time)>2021\n",
    "GROUP BY date_trunc(''month'',time)\n",
    "ORDER BY month\n",
    "``` ⋄ 100↑cons_monthly"
   ]
  },
  {
   "cell_type": "code",
   "execution_count": 18,
   "metadata": {
    "vscode": {
     "languageId": "apl"
    }
   },
   "outputs": [
    {
     "data": {
      "text/html": [
       "<span style=\"white-space:pre; font-family: monospace\">[{\"date\":\"2022-01-01\",\"min\":4.671080000000001,\"max\":18.59628},{\"date\":\"2022-01-02\",\"min\":2.59036,\"ma\n",
       "</span>"
      ]
     },
     "execution_count": 18,
     "metadata": {},
     "output_type": "execute_result"
    }
   ],
   "source": [
    "]multiline\n",
    "price_daily←duckdb.toJson duckdb.query _con ```\n",
    "SELECT\n",
    "  strftime(date_trunc(''day'',time),''%Y-%m-%d'') as date,\n",
    "  min(price) as min,\n",
    "  max(price) as max\n",
    "FROM elec\n",
    "WHERE year(time)>2021\n",
    "GROUP BY date_trunc(''day'',time)\n",
    "ORDER BY date\n",
    "``` ⋄ 100↑price_daily"
   ]
  },
  {
   "cell_type": "code",
   "execution_count": 19,
   "metadata": {
    "vscode": {
     "languageId": "apl"
    }
   },
   "outputs": [],
   "source": [
    "cons_daily ⎕nput 'data/cons_daily.json' 1\n",
    "cons_monthly ⎕nput 'data/cons_monthly.json' 1\n",
    "price_daily ⎕nput 'data/price_daily.json' 1"
   ]
  },
  {
   "cell_type": "code",
   "execution_count": 20,
   "metadata": {
    "vscode": {
     "languageId": "apl"
    }
   },
   "outputs": [
    {
     "data": {
      "application/vnd.vegalite.v4+json": {
       "layer": [
        {
         "data": {
          "url": "data/cons_daily.json"
         },
         "encoding": {
          "x": {
           "field": "date",
           "type": "temporal"
          },
          "y": {
           "axis": {
            "titleColor": "steelblue"
           },
           "field": "cons_daily",
           "scale": {
            "domain": [
             0,
             300
            ]
           },
           "title": "Daily consumption",
           "type": "quantitative"
          }
         },
         "height": 400,
         "mark": {
          "type": "bar"
         },
         "width": 800
        },
        {
         "data": {
          "url": "data/cons_monthly.json"
         },
         "encoding": {
          "color": {
           "value": "red"
          },
          "x": {
           "field": "month",
           "type": "temporal"
          },
          "y": {
           "axis": {
            "titleColor": "Red"
           },
           "field": "cons_monthly",
           "scale": {
            "domain": [
             0,
             5000
            ]
           },
           "title": "Monthly consumption",
           "type": "quantitative"
          }
         },
         "height": 400,
         "mark": {
          "interpolate": "step-after",
          "type": "line"
         },
         "width": 800
        }
       ],
       "resolve": {
        "scale": {
         "y": "independent"
        }
       }
      }
     },
     "metadata": {},
     "output_type": "display_data"
    }
   ],
   "source": [
    "]vegalite\n",
    "'plots/layerplot_url.vl'layerPlot ('data/cons_daily.json' 'data/cons_monthly.json')"
   ]
  },
  {
   "cell_type": "code",
   "execution_count": 21,
   "metadata": {
    "vscode": {
     "languageId": "apl"
    }
   },
   "outputs": [
    {
     "data": {
      "application/vnd.vegalite.v4+json": {
       "data": {
        "url": "data/price_daily.json"
       },
       "encoding": {
        "x": {
         "field": "date",
         "type": "temporal"
        },
        "y": {
         "field": "min",
         "type": "quantitative"
        },
        "y2": {
         "field": "max",
         "type": "quantitative"
        }
       },
       "height": 400,
       "mark": {
        "type": "area"
       },
       "width": 800
      }
     },
     "metadata": {},
     "output_type": "display_data"
    }
   ],
   "source": [
    "]vegalite\n",
    "'plots/lineplot_url.vl'linePlot ('data/price_daily.json')"
   ]
  },
  {
   "cell_type": "code",
   "execution_count": 22,
   "metadata": {
    "vscode": {
     "languageId": "apl"
    }
   },
   "outputs": [],
   "source": [
    "('plots/lineplot.vl'linePlot price_daily) ⎕nput 'data/test.vl' 1"
   ]
  },
  {
   "cell_type": "code",
   "execution_count": 23,
   "metadata": {
    "vscode": {
     "languageId": "apl"
    }
   },
   "outputs": [],
   "source": [
    "⎕SH 'vl2pdf data/test.vl testi.pdf'\n",
    "⎕SH 'vl2png data/test.vl testi.png'\n",
    "⎕SH 'vl2svg data/test.vl testi.svg'"
   ]
  },
  {
   "cell_type": "code",
   "execution_count": 24,
   "metadata": {
    "vscode": {
     "languageId": "apl"
    }
   },
   "outputs": [],
   "source": [
    "_←duckdb.disconnect _con\n",
    "_←duckdb.close _db "
   ]
  }
 ],
 "metadata": {
  "kernelspec": {
   "display_name": "Dyalog APL",
   "language": "apl",
   "name": "dyalog-kernel"
  },
  "language_info": {
   "file_extension": ".apl",
   "mimetype": "text/apl",
   "name": "APL"
  },
  "orig_nbformat": 4
 },
 "nbformat": 4,
 "nbformat_minor": 2
}
