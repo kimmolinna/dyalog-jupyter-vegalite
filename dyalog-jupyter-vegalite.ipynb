{
 "cells": [
  {
   "cell_type": "markdown",
   "metadata": {},
   "source": [
    "# DuckDB and DyalogAPL with Vega-Lite"
   ]
  },
  {
   "cell_type": "code",
   "execution_count": 1,
   "metadata": {
    "vscode": {
     "languageId": "apl"
    }
   },
   "outputs": [],
   "source": [
    "⎕pw←32767 ⋄ ⎕PP←34"
   ]
  },
  {
   "cell_type": "code",
   "execution_count": 2,
   "metadata": {
    "vscode": {
     "languageId": "apl"
    }
   },
   "outputs": [
    {
     "data": {
      "text/html": [
       "<span style=\"white-space:pre; font-family: monospace\">Linked: # ←→ /home/kimmo/dyalog-jupyter-vegalite/../dyalog-jupyter-vegalite\n",
       "</span>"
      ]
     },
     "execution_count": 2,
     "metadata": {},
     "output_type": "execute_result"
    }
   ],
   "source": [
    "]link.create # ../dyalog-jupyter-vegalite"
   ]
  },
  {
   "cell_type": "code",
   "execution_count": 3,
   "metadata": {
    "vscode": {
     "languageId": "apl"
    }
   },
   "outputs": [
    {
     "data": {
      "text/html": [
       "<span style=\"white-space:pre; font-family: monospace\">94063429625264\n",
       "</span>"
      ]
     },
     "execution_count": 3,
     "metadata": {},
     "output_type": "execute_result"
    }
   ],
   "source": [
    "duckdb.init 'lib/'\n",
    "_db←duckdb.open ':memory:'\n",
    "_con←duckdb.connect _db\n",
    "_con"
   ]
  },
  {
   "cell_type": "code",
   "execution_count": 4,
   "metadata": {
    "vscode": {
     "languageId": "apl"
    }
   },
   "outputs": [
    {
     "data": {
      "text/html": [
       "<span style=\"white-space:pre; font-family: monospace\">┌───────┬─────┬─┐\n",
       "│┌─────┐│11758│5│\n",
       "││Count││     │ │\n",
       "│└─────┘│     │ │\n",
       "└───────┴─────┴─┘\n",
       "</span>"
      ]
     },
     "execution_count": 4,
     "metadata": {},
     "output_type": "execute_result"
    }
   ],
   "source": [
    "duckdb.query _con 'CREATE TABLE elec AS SELECT * FROM \"data/electricity.parquet\"'"
   ]
  },
  {
   "cell_type": "code",
   "execution_count": 5,
   "metadata": {
    "vscode": {
     "languageId": "apl"
    }
   },
   "outputs": [
    {
     "data": {
      "text/html": [
       "<span style=\"white-space:pre; font-family: monospace\">┌───┬───────────┬─────────┬───────┬──────────┬──┐\n",
       "│cid│name       │type     │notnull│dflt_value│pk│\n",
       "├───┼───────────┼─────────┼───────┼──────────┼──┤\n",
       "│0  │time       │TIMESTAMP│0      │ [Null]   │0 │\n",
       "├───┼───────────┼─────────┼───────┼──────────┼──┤\n",
       "│1  │consumption│DOUBLE   │0      │ [Null]   │0 │\n",
       "├───┼───────────┼─────────┼───────┼──────────┼──┤\n",
       "│2  │price      │DOUBLE   │0      │ [Null]   │0 │\n",
       "└───┴───────────┴─────────┴───────┴──────────┴──┘\n",
       "</span>"
      ]
     },
     "execution_count": 5,
     "metadata": {},
     "output_type": "execute_result"
    }
   ],
   "source": [
    "duckdb.toTable duckdb.query _con 'PRAGMA table_info(elec)'"
   ]
  },
  {
   "cell_type": "code",
   "execution_count": 6,
   "metadata": {
    "vscode": {
     "languageId": "apl"
    }
   },
   "outputs": [
    {
     "data": {
      "text/html": [
       "<span style=\"white-space:pre; font-family: monospace\">┌───────────────────┬───────────┬─────┐\n",
       "│time               │consumption│price│\n",
       "├───────────────────┼───────────┼─────┤\n",
       "│2020 12 31 23 0 0 0│4.6        │24.95│\n",
       "├───────────────────┼───────────┼─────┤\n",
       "│2021 1 1 0 0 0 0   │9.27       │24.35│\n",
       "├───────────────────┼───────────┼─────┤\n",
       "│2021 1 1 1 0 0 0   │9.4        │23.98│\n",
       "├───────────────────┼───────────┼─────┤\n",
       "│2021 1 1 2 0 0 0   │9.31       │23.72│\n",
       "├───────────────────┼───────────┼─────┤\n",
       "│2021 1 1 3 0 0 0   │4.89       │23.73│\n",
       "└───────────────────┴───────────┴─────┘\n",
       "</span>"
      ]
     },
     "execution_count": 6,
     "metadata": {},
     "output_type": "execute_result"
    }
   ],
   "source": [
    "duckdb.toTable duckdb.query _con 'SELECT * FROM elec ORDER BY time LIMIT 5'"
   ]
  },
  {
   "cell_type": "code",
   "execution_count": 7,
   "metadata": {
    "vscode": {
     "languageId": "apl"
    }
   },
   "outputs": [
    {
     "data": {
      "text/html": [
       "<span style=\"white-space:pre; font-family: monospace\">┌────┬─────┬───────────┬───────────┬───────────┬──────────────┐\n",
       "│year│month│consumption│costs      │avg_price  │weighted_price│\n",
       "├────┼─────┼───────────┼───────────┼───────────┼──────────────┤\n",
       "│2021│1    │3530.99    │215.9300066│6.354555   │6.115282303   │\n",
       "├────┼─────┼───────────┼───────────┼───────────┼──────────────┤\n",
       "│2021│2    │3384.76    │239.1570573│7.079901786│7.065702068   │\n",
       "├────┼─────┼───────────┼───────────┼───────────┼──────────────┤\n",
       "│2021│3    │2945.29    │131.5138099│4.751558333│4.465224473   │\n",
       "├────┼─────┼───────────┼───────────┼───────────┼──────────────┤\n",
       "│2021│4    │2329.58    │100.6547046│4.567354   │4.320723248   │\n",
       "├────┼─────┼───────────┼───────────┼───────────┼──────────────┤\n",
       "│2021│5    │1948.1     │100.6957292│5.69209    │5.168919931   │\n",
       "├────┼─────┼───────────┼───────────┼───────────┼──────────────┤\n",
       "│2021│6    │1797.95    │111.9910938│6.965927333│6.228821367   │\n",
       "├────┼─────┼───────────┼───────────┼───────────┼──────────────┤\n",
       "│2021│7    │1681.7     │153.0326578│9.77001    │9.099878563   │\n",
       "├────┼─────┼───────────┼───────────┼───────────┼──────────────┤\n",
       "│2021│8    │1721.89    │136.432141 │8.44901    │7.923394703   │\n",
       "├────┼─────┼───────────┼───────────┼───────────┼──────────────┤\n",
       "│2021│9    │1884.44    │198.4407274│11.07337222│10.53048797   │\n",
       "├────┼─────┼───────────┼───────────┼───────────┼──────────────┤\n",
       "│2021│10   │2433.58    │180.1846079│8.041026667│7.40409635    │\n",
       "├────┼─────┼───────────┼───────────┼───────────┼──────────────┤\n",
       "│2021│11   │3154.2     │340.4261995│10.67069944│10.79279055   │\n",
       "├────┼─────┼───────────┼───────────┼───────────┼──────────────┤\n",
       "│2021│12   │4709.34    │1175.390424│23.9415505 │24.95870809   │\n",
       "├────┼─────┼───────────┼───────────┼───────────┼──────────────┤\n",
       "│2022│1    │4044.6     │525.8049314│13.16062441│13.00017137   │\n",
       "├────┼─────┼───────────┼───────────┼───────────┼──────────────┤\n",
       "│2022│2    │3078.02    │306.7896531│10.0258244 │9.967110452   │\n",
       "├────┼─────┼───────────┼───────────┼───────────┼──────────────┤\n",
       "│2022│3    │2777.89    │286.8994659│10.74263833│10.32796352   │\n",
       "├────┼─────┼───────────┼───────────┼───────────┼──────────────┤\n",
       "│2022│4    │2145.95    │195.0728148│9.8475375  │9.090277721   │\n",
       "├────┼─────┼───────────┼───────────┼───────────┼──────────────┤\n",
       "│2022│5    │218.15     │30.27712799│15.16070667│13.87904102   │\n",
       "└────┴─────┴───────────┴───────────┴───────────┴──────────────┘\n",
       "</span>"
      ]
     },
     "execution_count": 7,
     "metadata": {},
     "output_type": "execute_result"
    }
   ],
   "source": [
    "]multiline\n",
    "duckdb.toTable duckdb.query _con ```\n",
    "SELECT \n",
    "    year(time) as year,\n",
    "    month(time) as month,\n",
    "    sum(consumption) as consumption,\n",
    "    sum(1.24*price*consumption/1000) as costs,\n",
    "    avg(1.24*price/10) as avg_price,\n",
    "    sum(1.24*price/10*consumption)/sum(consumption) as weighted_price \n",
    "FROM elec\n",
    "WHERE year(time)>2020 \n",
    "GROUP BY year(time),month(time)\n",
    "```"
   ]
  },
  {
   "cell_type": "code",
   "execution_count": 8,
   "metadata": {
    "vscode": {
     "languageId": "apl"
    }
   },
   "outputs": [
    {
     "data": {
      "text/html": [
       "<span style=\"white-space:pre; font-family: monospace\">┌────────────┬───────────────────────────────────────────────────────────────────────────────────────────────────────────────────────────┬─────┐\n",
       "│┌────┬─────┐│┌───────────────────────────────────────────────────────────────────────────────────────────┬─────────────────────────────┐│17 11│\n",
       "││date│value│││┌─────────────────┬─────────────────┬─────────────────┬─────────────────┬─────────────────┐│24.95 24.35 23.98 23.72 23.73││     │\n",
       "│└────┴─────┘│││2020-12-31T23:00Z│2021-01-01T00:00Z│2021-01-01T01:00Z│2021-01-01T02:00Z│2021-01-01T03:00Z││                             ││     │\n",
       "│            ││└─────────────────┴─────────────────┴─────────────────┴─────────────────┴─────────────────┘│                             ││     │\n",
       "│            │└───────────────────────────────────────────────────────────────────────────────────────────┴─────────────────────────────┘│     │\n",
       "└────────────┴───────────────────────────────────────────────────────────────────────────────────────────────────────────────────────────┴─────┘\n",
       "</span>"
      ]
     },
     "execution_count": 8,
     "metadata": {},
     "output_type": "execute_result"
    }
   ],
   "source": [
    "duckdb.query _con 'SELECT strftime(time,''%Y-%m-%dT%H:%MZ'') as date,price as value FROM elec LIMIT 5'"
   ]
  },
  {
   "cell_type": "markdown",
   "metadata": {},
   "source": [
    "```apl\n",
    "json←toJson in\n",
    "col data←2↑in\n",
    "data←{a←⍵ ⋄ ∨/b←⍵∊⎕null:{(b/a)←⍵⋄a}⊂'null' ⋄ ⍵}¨data\n",
    "json←⎕json ⊂ 4 (data col)\n",
    "\n",
    "⍝ KSL 1.0.2\n",
    "```"
   ]
  },
  {
   "cell_type": "code",
   "execution_count": 9,
   "metadata": {
    "vscode": {
     "languageId": "apl"
    }
   },
   "outputs": [
    {
     "data": {
      "text/html": [
       "<span style=\"white-space:pre; font-family: monospace\">[{\"date\":\"2021-01-01\",\"cons_daily\":95.08},{\"date\":\"2021-01-02\",\"cons_daily\":122.41},{\"date\":\"2021-01\n",
       "</span>"
      ]
     },
     "execution_count": 9,
     "metadata": {},
     "output_type": "execute_result"
    }
   ],
   "source": [
    "]multiline\n",
    "cons_daily←duckdb.toJson duckdb.query _con ```\n",
    "SELECT\n",
    "  strftime(date_trunc(''day'',time),''%Y-%m-%d'') as date,\n",
    "  round(sum(consumption),2) as cons_daily\n",
    "FROM elec\n",
    "WHERE year(time)>2020\n",
    "GROUP BY date_trunc(''day'',time)\n",
    "ORDER BY date\n",
    "``` ⋄ 100↑cons_daily"
   ]
  },
  {
   "cell_type": "code",
   "execution_count": 10,
   "metadata": {
    "vscode": {
     "languageId": "apl"
    }
   },
   "outputs": [
    {
     "data": {
      "text/html": [
       "<span style=\"white-space:pre; font-family: monospace\">[{\"month\":\"2021-01-01\",\"cons_monthly\":3530.99},{\"month\":\"2021-02-01\",\"cons_monthly\":3384.76},{\"month\n",
       "</span>"
      ]
     },
     "execution_count": 10,
     "metadata": {},
     "output_type": "execute_result"
    }
   ],
   "source": [
    "]multiline\n",
    "cons_monthly←duckdb.toJson duckdb.query _con ```\n",
    "SELECT\n",
    "  strftime(date_trunc(''month'',time),''%Y-%m-%d'')as month,\n",
    "  round(sum(consumption),2) as cons_monthly\n",
    "FROM elec\n",
    "WHERE year(time)>2020\n",
    "GROUP BY date_trunc(''month'',time)\n",
    "ORDER BY month\n",
    "``` ⋄ 100↑cons_monthly"
   ]
  },
  {
   "cell_type": "code",
   "execution_count": 11,
   "metadata": {
    "vscode": {
     "languageId": "apl"
    }
   },
   "outputs": [
    {
     "data": {
      "text/html": [
       "<span style=\"white-space:pre; font-family: monospace\">[{\"date\":\"2021-01-01\",\"min\":23.72,\"max\":30.25},{\"date\":\"2021-01-02\",\"min\":24.66,\"max\":60.51},{\"date\"\n",
       "</span>"
      ]
     },
     "execution_count": 11,
     "metadata": {},
     "output_type": "execute_result"
    }
   ],
   "source": [
    "]multiline\n",
    "price_daily←duckdb.toJson duckdb.query _con ```\n",
    "SELECT\n",
    "  strftime(date_trunc(''day'',time),''%Y-%m-%d'') as date,\n",
    "  min(price) as min,\n",
    "  max(price) as max\n",
    "FROM elec\n",
    "WHERE year(time)>2020\n",
    "GROUP BY date_trunc(''day'',time)\n",
    "ORDER BY date\n",
    "``` ⋄ 100↑price_daily"
   ]
  },
  {
   "cell_type": "code",
   "execution_count": 12,
   "metadata": {
    "vscode": {
     "languageId": "apl"
    }
   },
   "outputs": [],
   "source": [
    "cons_daily ⎕nput 'data/cons_daily.json' 1\n",
    "cons_monthly ⎕nput 'data/cons_monthly.json' 1\n",
    "price_daily ⎕nput 'data/price_daily.json' 1"
   ]
  },
  {
   "cell_type": "code",
   "execution_count": 13,
   "metadata": {
    "vscode": {
     "languageId": "apl"
    }
   },
   "outputs": [
    {
     "data": {
      "application/vnd.vegalite.v4+json": {
       "layer": [
        {
         "data": {
          "url": "data/cons_daily.json"
         },
         "encoding": {
          "x": {
           "field": "date",
           "type": "temporal"
          },
          "y": {
           "axis": {
            "titleColor": "steelblue"
           },
           "field": "cons_daily",
           "scale": {
            "domain": [
             0,
             300
            ]
           },
           "title": "Daily consumption",
           "type": "quantitative"
          }
         },
         "height": 400,
         "mark": {
          "type": "bar"
         },
         "width": 800
        },
        {
         "data": {
          "url": "data/cons_monthly.json"
         },
         "encoding": {
          "color": {
           "value": "red"
          },
          "x": {
           "field": "month",
           "type": "temporal"
          },
          "y": {
           "axis": {
            "titleColor": "Red"
           },
           "field": "cons_monthly",
           "scale": {
            "domain": [
             0,
             5000
            ]
           },
           "title": "Monthly consumption",
           "type": "quantitative"
          }
         },
         "height": 400,
         "mark": {
          "interpolate": "step-after",
          "type": "line"
         },
         "width": 800
        }
       ],
       "resolve": {
        "scale": {
         "y": "independent"
        }
       }
      }
     },
     "metadata": {},
     "output_type": "display_data"
    }
   ],
   "source": [
    "]vegalite\n",
    "'plots/layerplot.vl'layerPlot ('data/cons_daily.json' 'data/cons_monthly.json')"
   ]
  },
  {
   "cell_type": "code",
   "execution_count": 15,
   "metadata": {
    "vscode": {
     "languageId": "apl"
    }
   },
   "outputs": [
    {
     "data": {
      "application/vnd.vegalite.v4+json": {
       "data": {
        "url": "data/price_daily.json"
       },
       "encoding": {
        "x": {
         "field": "date",
         "type": "temporal"
        },
        "y": {
         "field": "min",
         "type": "quantitative"
        },
        "y2": {
         "field": "max",
         "type": "quantitative"
        }
       },
       "height": 400,
       "mark": {
        "type": "area"
       },
       "width": 800
      }
     },
     "metadata": {},
     "output_type": "display_data"
    }
   ],
   "source": [
    "]vegalite\n",
    "'plots/lineplot.vl'linePlot ('data/price_daily.json')"
   ]
  },
  {
   "cell_type": "code",
   "execution_count": 16,
   "metadata": {
    "vscode": {
     "languageId": "apl"
    }
   },
   "outputs": [
    {
     "data": {
      "text/html": [
       "<span style=\"white-space:pre; font-family: monospace\">{\n",
       "  \"mark\": {\n",
       "    \"type\": \"area\"\n",
       "  },\n",
       "  \"data\": {\n",
       "    \"url\": \"data/price_daily.json\"\n",
       "  },\n",
       "  \"encoding\": {\n",
       "    \"x\": {\n",
       "      \"field\": \"date\",\n",
       "      \"type\": \"temporal\"\n",
       "    },\n",
       "    \"y2\": {\n",
       "      \"field\": \"max\",\n",
       "      \"type\": \"quantitative\"\n",
       "    },\n",
       "    \"y\": {\n",
       "      \"field\": \"min\",\n",
       "      \"type\": \"quantitative\"\n",
       "    }\n",
       "  },\n",
       "  \"width\": 800,\n",
       "  \"height\": 400\n",
       "}\n",
       "\n",
       "</span>"
      ]
     },
     "execution_count": 16,
     "metadata": {},
     "output_type": "execute_result"
    }
   ],
   "source": [
    "_←duckdb.disconnect _con\n",
    "_←duckdb.close _db "
   ]
  }
 ],
 "metadata": {
  "kernelspec": {
   "display_name": "Dyalog APL",
   "language": "apl",
   "name": "dyalog-kernel"
  },
  "language_info": {
   "file_extension": ".apl",
   "mimetype": "text/apl",
   "name": "APL"
  },
  "orig_nbformat": 4
 },
 "nbformat": 4,
 "nbformat_minor": 2
}
